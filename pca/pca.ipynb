{
 "cells": [
  {
   "metadata": {},
   "cell_type": "markdown",
   "source": "### Iris is a datasets of flowers\n",
   "id": "ab75a8c1ba046539"
  },
  {
   "cell_type": "code",
   "id": "initial_id",
   "metadata": {
    "collapsed": true
   },
   "source": [
    "from sklearn import datasets\n",
    "import pandas as pd"
   ],
   "outputs": [],
   "execution_count": null
  },
  {
   "metadata": {},
   "cell_type": "code",
   "source": [
    "iris = datasets.load_iris()\n",
    "df = pd.DataFrame(iris.data, columns=iris.feature_names)\n",
    "df['Target'] = iris.target\n",
    "df.head()"
   ],
   "id": "268806bc12e35283",
   "outputs": [],
   "execution_count": null
  },
  {
   "metadata": {},
   "cell_type": "markdown",
   "source": "Let's separate the data into features (X) and target (y).",
   "id": "f34e07a9dd8990a9"
  },
  {
   "metadata": {},
   "cell_type": "code",
   "source": [
    "features = ['sepal length (cm)', 'sepal width (cm)', 'petal length (cm)', 'petal width (cm)']\n",
    "X = df[features].values\n",
    "y = df['Target'].values\n"
   ],
   "id": "c6763c1cf3430690",
   "outputs": [],
   "execution_count": null
  },
  {
   "metadata": {},
   "cell_type": "code",
   "source": [
    "from sklearn.preprocessing import StandardScaler\n",
    "# Standardize the features using StandardScaler\n",
    "# This removes the mean and scales to unit variance\n",
    "# That means that for each feature, the mean would be 0 and the standard deviation would be 1\n",
    "X = StandardScaler().fit_transform(X)\n",
    "\n",
    "# Visualize the data after standardization\n",
    "df_standardized = pd.DataFrame(data=X, columns=features)\n",
    "display(df_standardized.head())"
   ],
   "id": "1b8190c35f3d7a0b",
   "outputs": [],
   "execution_count": null
  }
 ],
 "metadata": {
  "kernelspec": {
   "display_name": "Python 3",
   "language": "python",
   "name": "python3"
  },
  "language_info": {
   "codemirror_mode": {
    "name": "ipython",
    "version": 2
   },
   "file_extension": ".py",
   "mimetype": "text/x-python",
   "name": "python",
   "nbconvert_exporter": "python",
   "pygments_lexer": "ipython2",
   "version": "2.7.6"
  }
 },
 "nbformat": 4,
 "nbformat_minor": 5
}
