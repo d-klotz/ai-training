{
 "cells": [
  {
   "metadata": {},
   "cell_type": "code",
   "source": [
    "import openai\n",
    "from dotenv import load_dotenv, find_dotenv"
   ],
   "id": "5b217cf872ca6e1d",
   "outputs": [],
   "execution_count": null
  },
  {
   "metadata": {},
   "cell_type": "code",
   "source": [
    "_ = load_dotenv(find_dotenv())\n",
    "client = openai.Client()"
   ],
   "id": "d8aa14dbfbbdb310",
   "outputs": [],
   "execution_count": null
  },
  {
   "metadata": {},
   "cell_type": "code",
   "source": [
    "assistant = client.beta.assistants.create(\n",
    "    name=\"Math Tutor\",\n",
    "    instructions=\"You are a personal Math tutor. Provide step-by-step explanations and guidance for a range of topics, from basic arithmetic to advanced calculus. Use clear language and visual aids to make complex concepts easier to understand. Use code to answer questions when appropriate.\",\n",
    "    tools=[{\"type\": \"code_interpreter\"}],\n",
    "    model=\"gpt-4o\"\n",
    ")"
   ],
   "id": "aa058992a446229d",
   "outputs": [],
   "execution_count": null
  },
  {
   "metadata": {},
   "cell_type": "markdown",
   "source": "## Create a thread",
   "id": "4e260a81eed856fc"
  },
  {
   "metadata": {},
   "cell_type": "code",
   "source": "thread = client.beta.threads.create()",
   "id": "db1e368406dda4cc",
   "outputs": [],
   "execution_count": null
  },
  {
   "metadata": {},
   "cell_type": "markdown",
   "source": "## New Message in Thread",
   "id": "e9640373441f92f"
  },
  {
   "metadata": {},
   "cell_type": "code",
   "source": [
    "message = client.beta.threads.messages.create(\n",
    "    thread_id=thread.id,\n",
    "    role=\"user\",\n",
    "    content=\"show me how to calculate the value of py using code.\"\n",
    ")"
   ],
   "id": "1908530f9bff798e",
   "outputs": [],
   "execution_count": null
  },
  {
   "metadata": {},
   "cell_type": "markdown",
   "source": "## Run the thread",
   "id": "dc194516f4c23a10"
  },
  {
   "metadata": {},
   "cell_type": "code",
   "source": [
    "run = client.beta.threads.runs.create(\n",
    "    thread_id=thread.id,\n",
    "    assistant_id=assistant.id,\n",
    "    instructions='The name of the user is Daniel and he is a premium user.'\n",
    ")"
   ],
   "id": "854b9262d2d81f45",
   "outputs": [],
   "execution_count": null
  },
  {
   "metadata": {},
   "cell_type": "markdown",
   "source": "## Wait the thread to complete",
   "id": "636c11d9a8182a59"
  },
  {
   "metadata": {},
   "cell_type": "code",
   "source": [
    "import time\n",
    "\n",
    "while run.status in ['queued', 'in_progress', 'cancelling']:\n",
    "    print('Thinking...')\n",
    "    time.sleep(1)\n",
    "    run = client.beta.threads.runs.retrieve(thread_id=thread.id, run_id=run.id)"
   ],
   "id": "b00a68a27c0d8525",
   "outputs": [],
   "execution_count": null
  },
  {
   "metadata": {},
   "cell_type": "markdown",
   "source": "## Check the result",
   "id": "a69de08f1010bee0"
  },
  {
   "metadata": {},
   "cell_type": "code",
   "source": [
    "if run.status == 'completed':\n",
    "    messages = client.beta.threads.messages.list(thread_id=thread.id)\n",
    "    print(messages)\n",
    "else:\n",
    "    print(run.status)\n",
    "    print('Error occurred while running the thread.')"
   ],
   "id": "34453de2295305f4",
   "outputs": [],
   "execution_count": null
  },
  {
   "metadata": {},
   "cell_type": "markdown",
   "source": "## Final result",
   "id": "51146cb35644cc09"
  },
  {
   "metadata": {
    "ExecuteTime": {
     "end_time": "2024-09-17T13:31:41.406695Z",
     "start_time": "2024-09-17T13:31:41.403848Z"
    }
   },
   "cell_type": "code",
   "source": "print(messages.data[0].content[0].text.value)",
   "id": "7903236bdb2384cb",
   "outputs": [
    {
     "name": "stdout",
     "output_type": "stream",
     "text": [
      "Here's a code example that calculates the value of π (pi) using the Leibniz formula for π:\n",
      "\n",
      "```python\n",
      "def calculate_pi(n_terms):\n",
      "    pi = 0\n",
      "    for k in range(n_terms):\n",
      "        pi += ((-1)**k) / (2*k + 1)\n",
      "    pi *= 4\n",
      "    return pi\n",
      "\n",
      "# Let's calculate π using 1,000,000 terms\n",
      "n_terms = 1000000\n",
      "pi_estimate = calculate_pi(n_terms)\n",
      "pi_estimate\n",
      "```\n",
      "\n",
      "This code uses the Leibniz formula for π, which states that:\n",
      "\n",
      "\\[\n",
      "π = 4 \\left( 1 - \\frac{1}{3} + \\frac{1}{5} - \\frac{1}{7} + \\frac{1}{9} - \\cdots \\right)\n",
      "\\]\n",
      "\n",
      "The accuracy of this estimate improves as the number of terms increases.\n",
      "\n",
      "Would you like to see the actual calculation done through code execution?\n"
     ]
    }
   ],
   "execution_count": 35
  },
  {
   "metadata": {},
   "cell_type": "markdown",
   "source": "## Understand the steps performed by the Model",
   "id": "39608fbf93cd34ef"
  },
  {
   "metadata": {
    "ExecuteTime": {
     "end_time": "2024-09-17T13:36:47.954487Z",
     "start_time": "2024-09-17T13:36:47.533430Z"
    }
   },
   "cell_type": "code",
   "source": [
    "run_steps = client.beta.threads.runs.steps.list(\n",
    "    thread_id=thread.id,\n",
    "    run_id=run.id\n",
    ")\n",
    "\n",
    "print(f'Total steps: {len(run_steps.data)}')\n",
    "\n",
    "for steps in run_steps.data:\n",
    "    print(f'=== Step: {steps.step_details.type}')"
   ],
   "id": "561ed24611f56835",
   "outputs": [
    {
     "name": "stdout",
     "output_type": "stream",
     "text": [
      "Total steps: 1\n",
      "=== Step: message_creation\n"
     ]
    }
   ],
   "execution_count": 40
  }
 ],
 "metadata": {
  "kernelspec": {
   "display_name": "Python 3",
   "language": "python",
   "name": "python3"
  },
  "language_info": {
   "codemirror_mode": {
    "name": "ipython",
    "version": 2
   },
   "file_extension": ".py",
   "mimetype": "text/x-python",
   "name": "python",
   "nbconvert_exporter": "python",
   "pygments_lexer": "ipython2",
   "version": "2.7.6"
  }
 },
 "nbformat": 4,
 "nbformat_minor": 5
}
