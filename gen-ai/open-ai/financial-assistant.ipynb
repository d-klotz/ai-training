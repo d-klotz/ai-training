{
 "cells": [
  {
   "metadata": {},
   "cell_type": "code",
   "source": [
    "import pandas as pd\n",
    "\n",
    "dataset = pd.read_csv('data/supermarket_sales.csv')\n",
    "dataset.head()"
   ],
   "id": "833ff98880c6f68d",
   "outputs": [],
   "execution_count": null
  },
  {
   "metadata": {
    "collapsed": true
   },
   "cell_type": "code",
   "outputs": [],
   "execution_count": null,
   "source": [
    "import openai\n",
    "from dotenv import load_dotenv, find_dotenv\n",
    "\n",
    "_ = load_dotenv(find_dotenv())\n",
    "\n",
    "client = openai.Client()"
   ],
   "id": "initial_id"
  },
  {
   "metadata": {
    "ExecuteTime": {
     "end_time": "2024-09-18T07:59:10.726840Z",
     "start_time": "2024-09-18T07:59:09.486534Z"
    }
   },
   "cell_type": "code",
   "source": [
    "file = client.files.create(\n",
    "    file=open('data/supermarket_sales.csv',  'rb'),\n",
    "    purpose='assistants'\n",
    ")"
   ],
   "id": "fd0c5aa1bc366d93",
   "outputs": [],
   "execution_count": 3
  },
  {
   "metadata": {
    "ExecuteTime": {
     "end_time": "2024-09-18T08:05:28.759519Z",
     "start_time": "2024-09-18T08:05:27.561694Z"
    }
   },
   "cell_type": "code",
   "source": [
    "assistant = client.beta.assistants.create(\n",
    "    name='Financial Analyst',\n",
    "    instructions=\"You are a financial analyst of a supermarket, providing insights on sales, expenses, profits, and customer demographics, based on the .csv file provided.\",\n",
    "    tools=[{'type': 'code_interpreter'}],\n",
    "    tool_resources={\n",
    "        'code_interpreter': {\n",
    "            'file_ids': [file.id]\n",
    "        }\n",
    "    },\n",
    "    model='gpt-4o'\n",
    ")"
   ],
   "id": "5c52df059ef2ea7",
   "outputs": [],
   "execution_count": 6
  },
  {
   "metadata": {
    "ExecuteTime": {
     "end_time": "2024-09-18T08:06:22.628380Z",
     "start_time": "2024-09-18T08:06:21.948217Z"
    }
   },
   "cell_type": "code",
   "outputs": [],
   "execution_count": 7,
   "source": "thread = client.beta.threads.create()",
   "id": "ee058123d7e3949"
  },
  {
   "metadata": {
    "ExecuteTime": {
     "end_time": "2024-09-18T08:12:08.576562Z",
     "start_time": "2024-09-18T08:12:07.930272Z"
    }
   },
   "cell_type": "code",
   "source": [
    "message = client.beta.threads.messages.create(\n",
    "    thread_id=thread.id,\n",
    "    role='user',\n",
    "    content='what is the average rating of the supermarket? Check the .csv file for the latest data.'\n",
    ")"
   ],
   "id": "655f98d1e1de0154",
   "outputs": [],
   "execution_count": 13
  },
  {
   "metadata": {
    "ExecuteTime": {
     "end_time": "2024-09-18T08:12:11.238588Z",
     "start_time": "2024-09-18T08:12:10.417505Z"
    }
   },
   "cell_type": "code",
   "source": [
    "run = client.beta.threads.runs.create(\n",
    "    thread_id=thread.id,\n",
    "    assistant_id=assistant.id,\n",
    "    instructions='The name of the user is Daniel and he is a premium user.'\n",
    ")"
   ],
   "id": "234711de315c5577",
   "outputs": [],
   "execution_count": 14
  },
  {
   "metadata": {
    "ExecuteTime": {
     "end_time": "2024-09-18T08:12:16.070693Z",
     "start_time": "2024-09-18T08:12:13.497837Z"
    }
   },
   "cell_type": "code",
   "source": [
    "import time\n",
    "\n",
    "while run.status in ['queued', 'in_progress', 'cancelling']:\n",
    "    print('Thinking...')\n",
    "    time.sleep(1)\n",
    "    run = client.beta.threads.runs.retrieve(thread_id=thread.id, run_id=run.id)"
   ],
   "id": "22bdf2b92b8ad106",
   "outputs": [
    {
     "name": "stdout",
     "output_type": "stream",
     "text": [
      "Thinking...\n",
      "Thinking...\n"
     ]
    }
   ],
   "execution_count": 15
  },
  {
   "metadata": {
    "ExecuteTime": {
     "end_time": "2024-09-18T08:12:16.333026Z",
     "start_time": "2024-09-18T08:12:16.080700Z"
    }
   },
   "cell_type": "code",
   "source": [
    "if run.status == 'completed':\n",
    "    messages = client.beta.threads.messages.list(thread_id=thread.id)\n",
    "    print(messages)\n",
    "else:\n",
    "    print(run.status)\n",
    "    print('Error occurred while running the thread.')"
   ],
   "id": "7f064fd1c3c19e46",
   "outputs": [
    {
     "name": "stdout",
     "output_type": "stream",
     "text": [
      "SyncCursorPage[Message](data=[Message(id='msg_3LryGbtNs5Xi6ik32dmJBALa', assistant_id='asst_fGZdOzHwpcM1Js44BGPcOSdK', attachments=[], completed_at=None, content=[TextContentBlock(text=Text(annotations=[], value='The average rating of the supermarket, based on the latest data from the CSV file, is approximately 6.97. This confirms our earlier calculation. If you have any further questions or need additional analysis, please let me know!'), type='text')], created_at=1726647135, incomplete_at=None, incomplete_details=None, metadata={}, object='thread.message', role='assistant', run_id='run_FHzBdVO733Vh47jNG7CHmL9z', status=None, thread_id='thread_lRcCX7KKCY6vS6rxRWOtnATw'), Message(id='msg_WgxyYU3NWKsefqgDvGGJFtk0', assistant_id='asst_fGZdOzHwpcM1Js44BGPcOSdK', attachments=[], completed_at=None, content=[TextContentBlock(text=Text(annotations=[], value='I have verified the CSV file and the calculation of the average rating. The value calculated is based on the data present in the file you uploaded. To ensure this, I can re-read the CSV file and recompute the average rating.'), type='text')], created_at=1726647131, incomplete_at=None, incomplete_details=None, metadata={}, object='thread.message', role='assistant', run_id='run_FHzBdVO733Vh47jNG7CHmL9z', status=None, thread_id='thread_lRcCX7KKCY6vS6rxRWOtnATw'), Message(id='msg_NsM1YWdQQr8tdrAY8BLlxVLv', assistant_id=None, attachments=[], completed_at=None, content=[TextContentBlock(text=Text(annotations=[], value='what is the average rating of the supermarket? Check the .csv file for the latest data.'), type='text')], created_at=1726647128, incomplete_at=None, incomplete_details=None, metadata={}, object='thread.message', role='user', run_id=None, status=None, thread_id='thread_lRcCX7KKCY6vS6rxRWOtnATw'), Message(id='msg_HR4S1nSOst3XD3dtnB55z5hX', assistant_id='asst_fGZdOzHwpcM1Js44BGPcOSdK', attachments=[], completed_at=None, content=[TextContentBlock(text=Text(annotations=[], value='The average rating of the supermarket is approximately 6.97. If you need any further analysis or details, feel free to ask!'), type='text')], created_at=1726646947, incomplete_at=None, incomplete_details=None, metadata={}, object='thread.message', role='assistant', run_id='run_zdbGz0sFZGfVw9WuIcCdARf9', status=None, thread_id='thread_lRcCX7KKCY6vS6rxRWOtnATw'), Message(id='msg_GhJePa05axrCynIw1JwKABXO', assistant_id='asst_fGZdOzHwpcM1Js44BGPcOSdK', attachments=[], completed_at=None, content=[TextContentBlock(text=Text(annotations=[], value=\"The dataframe contains a `Rating` column. To find the average rating of the supermarket, we simply need to calculate the mean of the values in this column. Let's calculate it.\"), type='text')], created_at=1726646944, incomplete_at=None, incomplete_details=None, metadata={}, object='thread.message', role='assistant', run_id='run_zdbGz0sFZGfVw9WuIcCdARf9', status=None, thread_id='thread_lRcCX7KKCY6vS6rxRWOtnATw'), Message(id='msg_uIkrKXElfHaM5iNBqFA5X6nY', assistant_id='asst_fGZdOzHwpcM1Js44BGPcOSdK', attachments=[], completed_at=None, content=[TextContentBlock(text=Text(annotations=[], value=\"Successfully loaded the file as a CSV. Let's take a look at the first few rows to understand its structure and locate the rating information.\"), type='text')], created_at=1726646941, incomplete_at=None, incomplete_details=None, metadata={}, object='thread.message', role='assistant', run_id='run_zdbGz0sFZGfVw9WuIcCdARf9', status=None, thread_id='thread_lRcCX7KKCY6vS6rxRWOtnATw'), Message(id='msg_JSYjPIhlP0w4P4FyYEaOWAz1', assistant_id='asst_fGZdOzHwpcM1Js44BGPcOSdK', attachments=[], completed_at=None, content=[TextContentBlock(text=Text(annotations=[], value=\"Since reading the file with both `openpyxl` and `xlrd` engines was unsuccessful, the file might not be an Excel file at all. It could be in another format like a CSV, JSON, or another text-based format.\\n\\nLet's try reading the file as a CSV next.\"), type='text')], created_at=1726646936, incomplete_at=None, incomplete_details=None, metadata={}, object='thread.message', role='assistant', run_id='run_zdbGz0sFZGfVw9WuIcCdARf9', status=None, thread_id='thread_lRcCX7KKCY6vS6rxRWOtnATw'), Message(id='msg_l9KzYW8PgCbDbXZJeThEPPIO', assistant_id='asst_fGZdOzHwpcM1Js44BGPcOSdK', attachments=[], completed_at=None, content=[TextContentBlock(text=Text(annotations=[], value=\"It seems that the file type could not be automatically determined. I'll attempt to read the file as different types of Excel files by specifying engines commonly used for Excel files (`'openpyxl'` for `.xlsx` files and `'xlrd'` for `.xls` files). Let's try reading the file with these engines sequentially.\\n\\nFirst, let's attempt reading it with the `openpyxl` engine and if it fails, we will try the `xlrd` engine.\"), type='text')], created_at=1726646929, incomplete_at=None, incomplete_details=None, metadata={}, object='thread.message', role='assistant', run_id='run_zdbGz0sFZGfVw9WuIcCdARf9', status=None, thread_id='thread_lRcCX7KKCY6vS6rxRWOtnATw'), Message(id='msg_60USBMTBEWKuPpCadveuoo6K', assistant_id='asst_fGZdOzHwpcM1Js44BGPcOSdK', attachments=[], completed_at=None, content=[TextContentBlock(text=Text(annotations=[], value=\"It looks like the file might not be in a standard Excel format, or it might be in a format that requires specifying an engine manually. To proceed, I'll try loading the file using different methods or engines. Let's start by examining its file format and contents more closely.\"), type='text')], created_at=1726646926, incomplete_at=None, incomplete_details=None, metadata={}, object='thread.message', role='assistant', run_id='run_zdbGz0sFZGfVw9WuIcCdARf9', status=None, thread_id='thread_lRcCX7KKCY6vS6rxRWOtnATw'), Message(id='msg_DWNEuUXleagsjW0UXZzYsziV', assistant_id=None, attachments=[], completed_at=None, content=[TextContentBlock(text=Text(annotations=[], value='what is the average rating of the supermarket?'), type='text')], created_at=1726646882, incomplete_at=None, incomplete_details=None, metadata={}, object='thread.message', role='user', run_id=None, status=None, thread_id='thread_lRcCX7KKCY6vS6rxRWOtnATw')], object='list', first_id='msg_3LryGbtNs5Xi6ik32dmJBALa', last_id='msg_DWNEuUXleagsjW0UXZzYsziV', has_more=False)\n"
     ]
    }
   ],
   "execution_count": 16
  },
  {
   "metadata": {
    "ExecuteTime": {
     "end_time": "2024-09-18T08:12:24.384885Z",
     "start_time": "2024-09-18T08:12:24.378720Z"
    }
   },
   "cell_type": "code",
   "source": "print(messages.data[0].content[0].text.value)",
   "id": "204488e10096ffa3",
   "outputs": [
    {
     "name": "stdout",
     "output_type": "stream",
     "text": [
      "The average rating of the supermarket, based on the latest data from the CSV file, is approximately 6.97. This confirms our earlier calculation. If you have any further questions or need additional analysis, please let me know!\n"
     ]
    }
   ],
   "execution_count": 17
  }
 ],
 "metadata": {
  "kernelspec": {
   "display_name": "Python 3",
   "language": "python",
   "name": "python3"
  },
  "language_info": {
   "codemirror_mode": {
    "name": "ipython",
    "version": 2
   },
   "file_extension": ".py",
   "mimetype": "text/x-python",
   "name": "python",
   "nbconvert_exporter": "python",
   "pygments_lexer": "ipython2",
   "version": "2.7.6"
  }
 },
 "nbformat": 4,
 "nbformat_minor": 5
}
