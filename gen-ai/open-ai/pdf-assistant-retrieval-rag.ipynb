{
 "cells": [
  {
   "metadata": {
    "collapsed": true,
    "ExecuteTime": {
     "end_time": "2024-09-18T08:53:43.967972Z",
     "start_time": "2024-09-18T08:53:43.725792Z"
    }
   },
   "cell_type": "code",
   "outputs": [],
   "execution_count": 2,
   "source": [
    "import openai\n",
    "from dotenv import load_dotenv, find_dotenv\n",
    "\n",
    "_ = load_dotenv(find_dotenv())\n",
    "\n",
    "client = openai.Client()"
   ],
   "id": "initial_id"
  },
  {
   "metadata": {
    "ExecuteTime": {
     "end_time": "2024-09-18T09:02:41.424938Z",
     "start_time": "2024-09-18T09:02:33.479356Z"
    }
   },
   "cell_type": "code",
   "source": [
    "vector_store = client.beta.vector_stores.create(\n",
    "    name='Clinical Obstetrics The Fetus & Mother - Questions and Answers',\n",
    "    \n",
    ")\n",
    "\n",
    "files = ['data/Clinical Obstetrics - 2007 - Reece - Questions and Answers Clinical Obstetrics The Fetus   Mother-2.pdf']\n",
    "file_stream = [open(f, 'rb') for f in files]\n",
    "\n",
    "file_batch = client.beta.vector_stores.file_batches.upload_and_poll(\n",
    "    vector_store_id=vector_store.id,\n",
    "    files=file_stream,\n",
    ")"
   ],
   "id": "dd6ed52254d9ee98",
   "outputs": [],
   "execution_count": 5
  },
  {
   "metadata": {
    "ExecuteTime": {
     "end_time": "2024-09-18T09:03:10.697381Z",
     "start_time": "2024-09-18T09:03:10.694887Z"
    }
   },
   "cell_type": "code",
   "outputs": [
    {
     "name": "stdout",
     "output_type": "stream",
     "text": [
      "completed\n",
      "FileCounts(cancelled=0, completed=1, failed=0, in_progress=0, total=1)\n"
     ]
    }
   ],
   "execution_count": 6,
   "source": [
    "print(file_batch.status)\n",
    "print(file_batch.file_counts)"
   ],
   "id": "2001877fe0f9708"
  },
  {
   "metadata": {
    "ExecuteTime": {
     "end_time": "2024-09-18T09:16:11.566275Z",
     "start_time": "2024-09-18T09:16:10.734921Z"
    }
   },
   "cell_type": "code",
   "source": [
    "assistant = client.beta.assistants.create(\n",
    "    name='Obstetrics Assistant',\n",
    "    instructions=\"You are an expert in obstetrics, providing answers to common questions about pregnancy, fetal development, and motherhood. Your answers should be concise and relevant to the users query.\",\n",
    "    tools=[{'type': 'file_search'}],\n",
    "    tool_resources={\n",
    "        'file_search': {\n",
    "            'vector_store_ids': [vector_store.id],\n",
    "        }\n",
    "    },\n",
    "    model='gpt-4o'\n",
    ")"
   ],
   "id": "830ec7fa80241800",
   "outputs": [],
   "execution_count": 7
  },
  {
   "metadata": {
    "ExecuteTime": {
     "end_time": "2024-09-18T09:16:31.418278Z",
     "start_time": "2024-09-18T09:16:30.945531Z"
    }
   },
   "cell_type": "code",
   "source": "thread = client.beta.threads.create()",
   "id": "f9c2b4105c38cedf",
   "outputs": [],
   "execution_count": 8
  },
  {
   "metadata": {
    "ExecuteTime": {
     "end_time": "2024-09-18T09:18:47.563717Z",
     "start_time": "2024-09-18T09:18:46.793155Z"
    }
   },
   "cell_type": "code",
   "source": [
    "message = client.beta.threads.messages.create(\n",
    "    thread_id=thread.id,\n",
    "    role='user',\n",
    "    content='What does the Fetus feel during birth?'\n",
    ")"
   ],
   "id": "9aa949637377f81c",
   "outputs": [],
   "execution_count": 9
  },
  {
   "metadata": {
    "ExecuteTime": {
     "end_time": "2024-09-18T09:18:50.120144Z",
     "start_time": "2024-09-18T09:18:49.129108Z"
    }
   },
   "cell_type": "code",
   "source": [
    "run = client.beta.threads.runs.create(\n",
    "    thread_id=thread.id,\n",
    "    assistant_id=assistant.id,\n",
    "    instructions='The name of the user is Daniel and he is a premium user.'\n",
    ")"
   ],
   "id": "296ddfb6cd9f92d7",
   "outputs": [],
   "execution_count": 10
  },
  {
   "metadata": {
    "ExecuteTime": {
     "end_time": "2024-09-18T09:18:57.936064Z",
     "start_time": "2024-09-18T09:18:52.072432Z"
    }
   },
   "cell_type": "code",
   "source": [
    "import time\n",
    "\n",
    "while run.status in ['queued', 'in_progress', 'cancelling']:\n",
    "    print('Thinking...')\n",
    "    time.sleep(1)\n",
    "    run = client.beta.threads.runs.retrieve(thread_id=thread.id, run_id=run.id)"
   ],
   "id": "8985193cc6547f63",
   "outputs": [
    {
     "name": "stdout",
     "output_type": "stream",
     "text": [
      "Thinking...\n",
      "Thinking...\n",
      "Thinking...\n",
      "Thinking...\n"
     ]
    }
   ],
   "execution_count": 11
  },
  {
   "metadata": {
    "ExecuteTime": {
     "end_time": "2024-09-18T09:18:59.738399Z",
     "start_time": "2024-09-18T09:18:59.500514Z"
    }
   },
   "cell_type": "code",
   "source": [
    "if run.status == 'completed':\n",
    "    messages = client.beta.threads.messages.list(thread_id=thread.id)\n",
    "    print(messages)\n",
    "else:\n",
    "    print(run.status)\n",
    "    print('Error occurred while running the thread.')"
   ],
   "id": "94745eed2211ea8c",
   "outputs": [
    {
     "name": "stdout",
     "output_type": "stream",
     "text": [
      "SyncCursorPage[Message](data=[Message(id='msg_0zhe37Pvy373qceAqKzZyZod', assistant_id='asst_CVStD0c01eYt8d3y6SQv3uyG', attachments=[], completed_at=None, content=[TextContentBlock(text=Text(annotations=[FileCitationAnnotation(end_index=483, file_citation=FileCitation(file_id='file-NYcqCRhoAfK9YMCPYa8Bthll'), start_index=470, text='【4:19†source】', type='file_citation'), FileCitationAnnotation(end_index=760, file_citation=FileCitation(file_id='file-NYcqCRhoAfK9YMCPYa8Bthll'), start_index=747, text='【4:15†source】', type='file_citation'), FileCitationAnnotation(end_index=976, file_citation=FileCitation(file_id='file-NYcqCRhoAfK9YMCPYa8Bthll'), start_index=964, text='【4:9†source】', type='file_citation'), FileCitationAnnotation(end_index=1354, file_citation=FileCitation(file_id='file-NYcqCRhoAfK9YMCPYa8Bthll'), start_index=1341, text='【4:19†source】', type='file_citation'), FileCitationAnnotation(end_index=1367, file_citation=FileCitation(file_id='file-NYcqCRhoAfK9YMCPYa8Bthll'), start_index=1354, text='【4:15†source】', type='file_citation'), FileCitationAnnotation(end_index=1379, file_citation=FileCitation(file_id='file-NYcqCRhoAfK9YMCPYa8Bthll'), start_index=1367, text='【4:9†source】', type='file_citation')], value=\"While the specifics of what a fetus feels during birth aren't fully comprehended, there is notable insight into the physiological and biochemical responses experienced by the fetus:\\n\\n1. **Fetal Response to Hypoxemia and Stress**:\\n    - During labor, fetal hypoxemia can alter the shape of the fetal ECG waveform, specifically the ST segment, due to metabolic acidemia. This suggests that the fetus can experience stress and oxygen deprivation during the birthing process【4:19†source】.\\n\\n2. **Cardiovascular Adaptations**:\\n    - The fetal cardiovascular system responds to labor with increased blood flow resistance in response to various conditions. These measures are crucial to monitoring and ensuring fetal well-being during the birthing process【4:15†source】.\\n\\n3. **Hormonal Influence**:\\n    - Fetal cortisol production increases, which may play a role in the initiation of labor, contributing to the maturation of fetal organs and preparing the fetus for birth 【4:9†source】.\\n\\nThese observations demonstrate that the fetus is not passive but reacts to the stresses of labor through measurable physiological changes, suggesting a complex interplay of responses to the process of birth.\\n\\nFor more comprehensive details, including the context of these responses and additional insights, consult the relevant sections of the provided documents【4:19†source】【4:15†source】【4:9†source】.\"), type='text')], created_at=1726651134, incomplete_at=None, incomplete_details=None, metadata={}, object='thread.message', role='assistant', run_id='run_HKpKj71fAknnRgGCjjMDEDBG', status=None, thread_id='thread_coriTRxDjMRx45TqnN5YdjRW'), Message(id='msg_8aRoETX3bwL6VMSLw21oyWXJ', assistant_id=None, attachments=[], completed_at=None, content=[TextContentBlock(text=Text(annotations=[], value='What does the Fetus feel during birth?'), type='text')], created_at=1726651127, incomplete_at=None, incomplete_details=None, metadata={}, object='thread.message', role='user', run_id=None, status=None, thread_id='thread_coriTRxDjMRx45TqnN5YdjRW')], object='list', first_id='msg_0zhe37Pvy373qceAqKzZyZod', last_id='msg_8aRoETX3bwL6VMSLw21oyWXJ', has_more=False)\n"
     ]
    }
   ],
   "execution_count": 12
  },
  {
   "metadata": {
    "ExecuteTime": {
     "end_time": "2024-09-18T09:19:02.908761Z",
     "start_time": "2024-09-18T09:19:02.906445Z"
    }
   },
   "cell_type": "code",
   "source": "print(messages.data[0].content[0].text.value)",
   "id": "5482b656881e492b",
   "outputs": [
    {
     "name": "stdout",
     "output_type": "stream",
     "text": [
      "While the specifics of what a fetus feels during birth aren't fully comprehended, there is notable insight into the physiological and biochemical responses experienced by the fetus:\n",
      "\n",
      "1. **Fetal Response to Hypoxemia and Stress**:\n",
      "    - During labor, fetal hypoxemia can alter the shape of the fetal ECG waveform, specifically the ST segment, due to metabolic acidemia. This suggests that the fetus can experience stress and oxygen deprivation during the birthing process【4:19†source】.\n",
      "\n",
      "2. **Cardiovascular Adaptations**:\n",
      "    - The fetal cardiovascular system responds to labor with increased blood flow resistance in response to various conditions. These measures are crucial to monitoring and ensuring fetal well-being during the birthing process【4:15†source】.\n",
      "\n",
      "3. **Hormonal Influence**:\n",
      "    - Fetal cortisol production increases, which may play a role in the initiation of labor, contributing to the maturation of fetal organs and preparing the fetus for birth 【4:9†source】.\n",
      "\n",
      "These observations demonstrate that the fetus is not passive but reacts to the stresses of labor through measurable physiological changes, suggesting a complex interplay of responses to the process of birth.\n",
      "\n",
      "For more comprehensive details, including the context of these responses and additional insights, consult the relevant sections of the provided documents【4:19†source】【4:15†source】【4:9†source】.\n"
     ]
    }
   ],
   "execution_count": 13
  }
 ],
 "metadata": {
  "kernelspec": {
   "display_name": "Python 3",
   "language": "python",
   "name": "python3"
  },
  "language_info": {
   "codemirror_mode": {
    "name": "ipython",
    "version": 2
   },
   "file_extension": ".py",
   "mimetype": "text/x-python",
   "name": "python",
   "nbconvert_exporter": "python",
   "pygments_lexer": "ipython2",
   "version": "2.7.6"
  }
 },
 "nbformat": 4,
 "nbformat_minor": 5
}
