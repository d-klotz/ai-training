{
 "cells": [
  {
   "metadata": {},
   "cell_type": "code",
   "source": [
    "import openai\n",
    "from dotenv import load_dotenv, find_dotenv"
   ],
   "id": "6cc98e6a693ea967",
   "outputs": [],
   "execution_count": null
  },
  {
   "metadata": {
    "collapsed": true
   },
   "cell_type": "code",
   "source": [
    "_ = load_dotenv(find_dotenv())\n",
    "client = openai.Client()\n",
    "\n"
   ],
   "id": "initial_id",
   "outputs": [],
   "execution_count": null
  },
  {
   "metadata": {},
   "cell_type": "code",
   "source": [
    "messages = [{'role': 'user', 'content': 'What is an apple in 5 words' }]\n",
    "answer = client.chat.completions.create(messages=messages, model='gpt-4o-mini', max_tokens=1000, temperature=0)\n",
    "\n"
   ],
   "id": "9acbd91661eff91f",
   "outputs": [],
   "execution_count": null
  },
  {
   "metadata": {},
   "cell_type": "code",
   "source": "messages.append({'role': 'assistant', 'content': answer.choices[0].message.content})",
   "id": "7578e5b9f62425de",
   "outputs": [],
   "execution_count": null
  },
  {
   "metadata": {},
   "cell_type": "code",
   "source": [
    "def generate_text(messages, model='gpt-4o-mini', max_tokens=1000, temperature=0):\n",
    "    answer = client.chat.completions.create(\n",
    "        messages=messages, \n",
    "        model=model, \n",
    "        max_tokens=max_tokens, \n",
    "        temperature=temperature,\n",
    "        stream=True)\n",
    "    messages.append(answer.choices[0].message.model_dump(exclude_none=True ))\n",
    "    return messages"
   ],
   "id": "4b3d7f3ffb2c8a97",
   "outputs": [],
   "execution_count": null
  },
  {
   "metadata": {
    "ExecuteTime": {
     "end_time": "2024-09-17T00:19:22.359407Z",
     "start_time": "2024-09-17T00:19:16.454918Z"
    }
   },
   "cell_type": "code",
   "source": [
    "messages = [{'role': 'user', 'content': 'tell me a story about mars in 4 paragraphs' }]\n",
    "answer = client.chat.completions.create(\n",
    "        messages=messages, \n",
    "        model='gpt-4o-mini', \n",
    "        max_tokens=1000, \n",
    "        temperature=0,\n",
    "        stream=True)\n",
    "full_answer = ''\n",
    "for stream_message in answer:\n",
    "    text = stream_message.choices[0].delta.content\n",
    "    if text:\n",
    "        full_answer += text\n",
    "        print(text, end='')"
   ],
   "id": "c295495cbcf9b7ac",
   "outputs": [
    {
     "name": "stdout",
     "output_type": "stream",
     "text": [
      "In the year 2045, humanity finally achieved what had once seemed like a distant dream: a permanent settlement on Mars. The colony, named New Horizon, was established in the vast plains of Utopia Planitia, where scientists and engineers had worked tirelessly to create a self-sustaining environment. The settlement was a marvel of technology, with biodomes housing crops, solar panels capturing the sun’s rays, and habitats designed to withstand the harsh Martian climate. Among the settlers was Dr. Elara Chen, a botanist who had dedicated her life to studying how to grow food in extraterrestrial soil.\n",
      "\n",
      "As Elara tended to her plants, she often gazed at the red horizon, contemplating the challenges that lay ahead. The Martian soil, rich in iron oxide, posed a significant challenge for agriculture. However, Elara had developed a unique method of bioengineering that allowed her to create a hybrid plant capable of thriving in the Martian environment. Each day, she meticulously monitored their growth, hoping to prove that life could flourish beyond Earth. Her dream was not just to feed the colony but to inspire future generations to explore the cosmos.\n",
      "\n",
      "One fateful evening, as a dust storm swept across the plains, Elara noticed something unusual in her biodome. A small, vibrant flower had bloomed overnight, its petals shimmering with an iridescent hue. It was unlike anything she had ever seen, a testament to her hard work and the resilience of life. Elara named the flower \"Martian Hope,\" believing it symbolized the potential for life on the planet. News of her discovery spread quickly throughout New Horizon, igniting excitement and curiosity among the settlers. They gathered to witness the flower, marveling at its beauty and the promise it held for their future.\n",
      "\n",
      "Inspired by the flower, the settlers began to collaborate more closely, sharing ideas and resources to enhance their agricultural practices. Elara’s work became a catalyst for innovation, leading to the development of new technologies that improved food production and sustainability. As the colony thrived, the settlers realized that they were not just surviving on Mars; they were creating a new home. The Martian Hope flower became a symbol of their unity and determination, reminding them that even in the harshest of environments, life could not only exist but flourish. Together, they forged a new chapter in human history, one where the spirit of exploration and resilience would guide them into the stars."
     ]
    },
    {
     "ename": "TypeError",
     "evalue": "can only concatenate str (not \"NoneType\") to str",
     "output_type": "error",
     "traceback": [
      "\u001B[0;31m---------------------------------------------------------------------------\u001B[0m",
      "\u001B[0;31mTypeError\u001B[0m                                 Traceback (most recent call last)",
      "Cell \u001B[0;32mIn[27], line 11\u001B[0m\n\u001B[1;32m      9\u001B[0m \u001B[38;5;28;01mfor\u001B[39;00m stream_message \u001B[38;5;129;01min\u001B[39;00m answer:\n\u001B[1;32m     10\u001B[0m     text \u001B[38;5;241m=\u001B[39m stream_message\u001B[38;5;241m.\u001B[39mchoices[\u001B[38;5;241m0\u001B[39m]\u001B[38;5;241m.\u001B[39mdelta\u001B[38;5;241m.\u001B[39mcontent\n\u001B[0;32m---> 11\u001B[0m     \u001B[43mfull_answer\u001B[49m\u001B[43m \u001B[49m\u001B[38;5;241;43m+\u001B[39;49m\u001B[38;5;241;43m=\u001B[39;49m\u001B[43m \u001B[49m\u001B[43mtext\u001B[49m\n\u001B[1;32m     12\u001B[0m     \u001B[38;5;28mprint\u001B[39m(text, end\u001B[38;5;241m=\u001B[39m\u001B[38;5;124m'\u001B[39m\u001B[38;5;124m'\u001B[39m)\n",
      "\u001B[0;31mTypeError\u001B[0m: can only concatenate str (not \"NoneType\") to str"
     ]
    }
   ],
   "execution_count": 27
  },
  {
   "metadata": {
    "ExecuteTime": {
     "end_time": "2024-09-17T00:19:27.289374Z",
     "start_time": "2024-09-17T00:19:27.282564Z"
    }
   },
   "cell_type": "code",
   "source": "full_answer",
   "id": "f04032511d83b6e0",
   "outputs": [
    {
     "data": {
      "text/plain": [
       "'In the year 2045, humanity finally achieved what had once seemed like a distant dream: a permanent settlement on Mars. The colony, named New Horizon, was established in the vast plains of Utopia Planitia, where scientists and engineers had worked tirelessly to create a self-sustaining environment. The settlement was a marvel of technology, with biodomes housing crops, solar panels capturing the sun’s rays, and habitats designed to withstand the harsh Martian climate. Among the settlers was Dr. Elara Chen, a botanist who had dedicated her life to studying how to grow food in extraterrestrial soil.\\n\\nAs Elara tended to her plants, she often gazed at the red horizon, contemplating the challenges that lay ahead. The Martian soil, rich in iron oxide, posed a significant challenge for agriculture. However, Elara had developed a unique method of bioengineering that allowed her to create a hybrid plant capable of thriving in the Martian environment. Each day, she meticulously monitored their growth, hoping to prove that life could flourish beyond Earth. Her dream was not just to feed the colony but to inspire future generations to explore the cosmos.\\n\\nOne fateful evening, as a dust storm swept across the plains, Elara noticed something unusual in her biodome. A small, vibrant flower had bloomed overnight, its petals shimmering with an iridescent hue. It was unlike anything she had ever seen, a testament to her hard work and the resilience of life. Elara named the flower \"Martian Hope,\" believing it symbolized the potential for life on the planet. News of her discovery spread quickly throughout New Horizon, igniting excitement and curiosity among the settlers. They gathered to witness the flower, marveling at its beauty and the promise it held for their future.\\n\\nInspired by the flower, the settlers began to collaborate more closely, sharing ideas and resources to enhance their agricultural practices. Elara’s work became a catalyst for innovation, leading to the development of new technologies that improved food production and sustainability. As the colony thrived, the settlers realized that they were not just surviving on Mars; they were creating a new home. The Martian Hope flower became a symbol of their unity and determination, reminding them that even in the harshest of environments, life could not only exist but flourish. Together, they forged a new chapter in human history, one where the spirit of exploration and resilience would guide them into the stars.'"
      ]
     },
     "execution_count": 28,
     "metadata": {},
     "output_type": "execute_result"
    }
   ],
   "execution_count": 28
  }
 ],
 "metadata": {
  "kernelspec": {
   "display_name": "Python 3",
   "language": "python",
   "name": "python3"
  },
  "language_info": {
   "codemirror_mode": {
    "name": "ipython",
    "version": 2
   },
   "file_extension": ".py",
   "mimetype": "text/x-python",
   "name": "python",
   "nbconvert_exporter": "python",
   "pygments_lexer": "ipython2",
   "version": "2.7.6"
  }
 },
 "nbformat": 4,
 "nbformat_minor": 5
}
