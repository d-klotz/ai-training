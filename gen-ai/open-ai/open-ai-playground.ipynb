{
 "cells": [
  {
   "metadata": {
    "ExecuteTime": {
     "end_time": "2024-09-12T19:34:20.335428Z",
     "start_time": "2024-09-12T19:34:20.326509Z"
    }
   },
   "cell_type": "code",
   "outputs": [],
   "execution_count": 6,
   "source": [
    "import openai\n",
    "from dotenv import load_dotenv, find_dotenv"
   ],
   "id": "6cc98e6a693ea967"
  },
  {
   "metadata": {
    "collapsed": true,
    "ExecuteTime": {
     "end_time": "2024-09-12T19:35:01.932321Z",
     "start_time": "2024-09-12T19:35:01.896280Z"
    }
   },
   "cell_type": "code",
   "source": [
    "_ = load_dotenv(find_dotenv())\n",
    "client = openai.Client()\n",
    "\n"
   ],
   "id": "initial_id",
   "outputs": [],
   "execution_count": 7
  }
 ],
 "metadata": {
  "kernelspec": {
   "display_name": "Python 3",
   "language": "python",
   "name": "python3"
  },
  "language_info": {
   "codemirror_mode": {
    "name": "ipython",
    "version": 2
   },
   "file_extension": ".py",
   "mimetype": "text/x-python",
   "name": "python",
   "nbconvert_exporter": "python",
   "pygments_lexer": "ipython2",
   "version": "2.7.6"
  }
 },
 "nbformat": 4,
 "nbformat_minor": 5
}
